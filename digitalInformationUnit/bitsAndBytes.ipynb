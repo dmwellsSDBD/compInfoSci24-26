{
 "cells": [
  {
   "cell_type": "markdown",
   "id": "1a0452e5",
   "metadata": {},
   "source": [
    "# Bits and Bytes"
   ]
  },
  {
   "cell_type": "markdown",
   "id": "f5ec0995",
   "metadata": {},
   "source": [
    "Bit - is the smallest unit of data. A bit is represented by either a 1 or a 0.\n",
    "\n",
    "* Differentiate between 10000 \"Mega bits\" or \"Mega Bytes\"\n",
    "\n",
    "Byte - this a string of 8 1's or 0's \n",
    "\n",
    "\n",
    "A --> 01000001\n",
    "David --> 01000100 01100001 01110110 01101001 01100100\n",
    "Computer Science --> 01000011 01101111 01101101 01110000 01110101 01110100 01100101 01110010 00100000 01010011 01100011 01101001 01100101 01101110 01100011 01100101\n",
    "\n",
    "255 --> 00110010 00110101 00110101\n",
    "\n",
    "### Representing Color\n",
    "\n",
    "- Hexidecimal --> #33 99 ee\n",
    "- RGB --> (255, 145, 98) --> 00110010 00110101 00110101, 00110001 00110100 00110101, 00111001 00111000"
   ]
  },
  {
   "cell_type": "markdown",
   "id": "72e599d9",
   "metadata": {},
   "source": [
    "### Series of bits\n",
    "\n",
    "2 bits --> 4 different combinations: 00, 10, 01, 11\n",
    "3 bits --> 8 different combinations: 000, 001, 010, 100, 101, 110, 011, 111\n",
    "4 bits --> 16 different\n",
    "5 bits --> 32 different\n",
    "6 bits --> 64 different\n",
    "7 bits --> 128 different\n",
    "8 bits --> 256 different\n",
    "9 bits --> 512 different\n",
    "10 bits --> 1024 different"
   ]
  },
  {
   "cell_type": "markdown",
   "id": "84bd899a",
   "metadata": {},
   "source": [
    "### Bytes - is a combination of 8 bits"
   ]
  },
  {
   "cell_type": "markdown",
   "id": "b609af8c",
   "metadata": {},
   "source": [
    "0000 0101"
   ]
  },
  {
   "cell_type": "markdown",
   "id": "44286596",
   "metadata": {},
   "source": []
  }
 ],
 "metadata": {
  "language_info": {
   "name": "python"
  }
 },
 "nbformat": 4,
 "nbformat_minor": 5
}
