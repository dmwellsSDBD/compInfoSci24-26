{
 "cells": [
  {
   "cell_type": "markdown",
   "id": "1a0452e5",
   "metadata": {},
   "source": [
    "# Bits and Bytes"
   ]
  },
  {
   "cell_type": "markdown",
   "id": "f5ec0995",
   "metadata": {},
   "source": [
    "Bit - is the smallest unit of data. A bit is represented by either a 1 or a 0.\n",
    "\n",
    "* Differentiate between 10000 \"Mega bits\" or \"Mega Bytes\"\n",
    "\n",
    "Byte - this a string of 8 1's or 0's \n",
    "\n",
    "\n",
    "A --> 01000001\n",
    "David --> 01000100 01100001 01110110 01101001 01100100\n",
    "Computer Science --> 01000011 01101111 01101101 01110000 01110101 01110100 01100101 01110010 00100000 01010011 01100011 01101001 01100101 01101110 01100011 01100101\n",
    "\n",
    "255 --> 00110010 00110101 00110101\n",
    "\n",
    "### Representing Color\n",
    "\n",
    "- Hexidecimal --> #33 99 ee\n",
    "- RGB --> (255, 145, 98) --> 00110010 00110101 00110101, 00110001 00110100 00110101, 00111001 00111000"
   ]
  },
  {
   "cell_type": "markdown",
   "id": "72e599d9",
   "metadata": {},
   "source": [
    "### Series of bits\n",
    "\n",
    "2 bits --> 4 different combinations: 00, 10, 01, 11\n",
    "3 bits --> 8 different combinations: 000, 001, 010, 100, 101, 110, 011, 111\n",
    "4 bits --> 16 different\n",
    "5 bits --> 32 different\n",
    "6 bits --> 64 different\n",
    "7 bits --> 128 different\n",
    "8 bits --> 256 different\n",
    "9 bits --> 512 different\n",
    "10 bits --> 1024 different"
   ]
  },
  {
   "cell_type": "markdown",
   "id": "84bd899a",
   "metadata": {},
   "source": [
    "### Bytes - is a combination of 8 bits"
   ]
  },
  {
   "cell_type": "markdown",
   "id": "b609af8c",
   "metadata": {},
   "source": [
    "0000 0101"
   ]
  },
  {
   "cell_type": "markdown",
   "id": "44286596",
   "metadata": {},
   "source": [
    "## Visualize Numbers in Decimal"
   ]
  },
  {
   "cell_type": "markdown",
   "id": "5bbea94d",
   "metadata": {},
   "source": [
    "234\n",
    "\n",
    "(2 x 100) + (3 x 10) + (4 x 1) = 234"
   ]
  },
  {
   "cell_type": "markdown",
   "id": "289fd2a5",
   "metadata": {},
   "source": [
    "## Binary Numbers"
   ]
  },
  {
   "cell_type": "markdown",
   "id": "4019a155",
   "metadata": {},
   "source": [
    "            0   0   0   1\n",
    "\n",
    "64  32  16  8   4   2   1 --> Binary Places\n",
    "            (8x0) + (4x0) + (2x0) + (1x1) = 1\n",
    "\n",
    "0   0   1   1   0   1   0 = 26\n",
    "64  32  16  8   4   2   1\n",
    "\n",
    "(64 x0) + (32x0) + (1x16) + (1x8) + (0x4) + (1x2) + (0x1)\n",
    "0 + 0 + 16 + 8 + 0 + 2 + 0\n",
    "\n"
   ]
  },
  {
   "cell_type": "markdown",
   "id": "b6ef2971",
   "metadata": {},
   "source": []
  },
  {
   "cell_type": "markdown",
   "id": "b3ce8e08",
   "metadata": {},
   "source": [
    "\n",
    "                                         1        0       0       1       1       1\n",
    "____  - _____ - _____ - _____ - ______- _____ - _____ - _____ - _____ - _____ - _____\n",
    "\n",
    "1024s    512s    256s    128s     64s    32s     16s      8s      4s      2s      1s\n",
    "\n",
    "100111 = 39\n",
    "\n",
    "101011 = 43\n",
    "\n",
    "100000 = 32\n",
    "1000000 = 64\n",
    "10000 = 16\n",
    "\n",
    "0111 = 7\n",
    "011111 = 31"
   ]
  },
  {
   "cell_type": "markdown",
   "id": "206e9616",
   "metadata": {},
   "source": []
  }
 ],
 "metadata": {
  "language_info": {
   "name": "python"
  }
 },
 "nbformat": 4,
 "nbformat_minor": 5
}
