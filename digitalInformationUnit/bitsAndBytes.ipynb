{
 "cells": [
  {
   "cell_type": "markdown",
   "id": "1a0452e5",
   "metadata": {},
   "source": [
    "# Bits and Bytes"
   ]
  },
  {
   "cell_type": "markdown",
   "id": "f5ec0995",
   "metadata": {},
   "source": [
    "Bit - is the smallest unit of data. A bit is represented by either a 1 or a 0.\n",
    "\n",
    "* Differentiate between 10000 \"Mega bits\" or \"Mega Bytes\"\n",
    "\n",
    "Byte - this a string of 8 1's or 0's \n",
    "\n",
    "\n",
    "A --> 01000001\n",
    "David --> 01000100 01100001 01110110 01101001 01100100\n",
    "Computer Science --> 01000011 01101111 01101101 01110000 01110101 01110100 01100101 01110010 00100000 01010011 01100011 01101001 01100101 01101110 01100011 01100101\n",
    "\n",
    "255 --> 00110010 00110101 00110101\n",
    "\n",
    "### Representing Color\n",
    "\n",
    "- Hexidecimal --> #33 99 ee\n",
    "- RGB --> (255, 145, 98) --> 00110010 00110101 00110101, 00110001 00110100 00110101, 00111001 00111000"
   ]
  },
  {
   "cell_type": "markdown",
   "id": "72e599d9",
   "metadata": {},
   "source": [
    "### Series of bits\n",
    "\n",
    "2 bits --> 4 different combinations: 00, 10, 01, 11\n",
    "3 bits --> 8 different combinations: 000, 001, 010, 100, 101, 110, 011, 111\n",
    "4 bits --> 16 different\n",
    "5 bits --> 32 different\n",
    "6 bits --> 64 different\n",
    "7 bits --> 128 different\n",
    "8 bits --> 256 different\n",
    "9 bits --> 512 different\n",
    "10 bits --> 1024 different"
   ]
  },
  {
   "cell_type": "markdown",
   "id": "84bd899a",
   "metadata": {},
   "source": [
    "### Bytes - is a combination of 8 bits"
   ]
  },
  {
   "cell_type": "markdown",
   "id": "b609af8c",
   "metadata": {},
   "source": [
    "0000 0101"
   ]
  },
  {
   "cell_type": "markdown",
   "id": "44286596",
   "metadata": {},
   "source": [
    "## Visualize Numbers in Decimal"
   ]
  },
  {
   "cell_type": "markdown",
   "id": "5bbea94d",
   "metadata": {},
   "source": [
    "234\n",
    "\n",
    "(2 x 100) + (3 x 10) + (4 x 1) = 234"
   ]
  },
  {
   "cell_type": "markdown",
   "id": "289fd2a5",
   "metadata": {},
   "source": [
    "## Binary Numbers"
   ]
  },
  {
   "cell_type": "markdown",
   "id": "4019a155",
   "metadata": {},
   "source": [
    "            0   0   0   1\n",
    "\n",
    "64  32  16  8   4   2   1 --> Binary Places\n",
    "            (8x0) + (4x0) + (2x0) + (1x1) = 1\n",
    "\n",
    "0   0   1   1   0   1   0 = 26\n",
    "64  32  16  8   4   2   1\n",
    "\n",
    "(64 x0) + (32x0) + (1x16) + (1x8) + (0x4) + (1x2) + (0x1)\n",
    "0 + 0 + 16 + 8 + 0 + 2 + 0\n",
    "\n"
   ]
  },
  {
   "cell_type": "markdown",
   "id": "b6ef2971",
   "metadata": {},
   "source": []
  },
  {
   "cell_type": "markdown",
   "id": "b3ce8e08",
   "metadata": {},
   "source": [
    "\n",
    "                                         1        0       0       1       1       1\n",
    "____  - _____ - _____ - _____ - ______- _____ - _____ - _____ - _____ - _____ - _____\n",
    "\n",
    "1024s    512s    256s    128s     64s    32s     16s      8s      4s      2s      1s\n",
    "\n",
    "100111 = 39\n",
    "\n",
    "101011 = 43\n",
    "\n",
    "100000 = 32\n",
    "1000000 = 64\n",
    "10000 = 16\n",
    "\n",
    "0111 = 7\n",
    "011111 = 31"
   ]
  },
  {
   "cell_type": "markdown",
   "id": "5321fe4c",
   "metadata": {},
   "source": [
    "## Limitation of storing numbers"
   ]
  },
  {
   "cell_type": "markdown",
   "id": "abb3176d",
   "metadata": {},
   "source": [
    "<b>Integer</b> - Non-fractional real number. Any number without a decimal.\n",
    "\n",
    "Integers can be negative or positive:\n",
    "120, 10, 0, -20, 42\n",
    "\n",
    "#### Example of a computer using 4 bits to represent an integer\n",
    "\n",
    "0001\n",
    "\n",
    "<pre>+/-     4       2        1\n",
    "\n",
    "sign    2^2     2^1     2^0</pre>"
   ]
  },
  {
   "cell_type": "markdown",
   "id": "206e9616",
   "metadata": {},
   "source": []
  },
  {
   "cell_type": "markdown",
   "id": "0740c52a",
   "metadata": {},
   "source": [
    "What would happen if ran a program like this on the 4-bit computer, where the largest positive integer is 7?\n",
    "\n",
    "<b>Overflow</b> - is when a computer reaches it's storage limit capabilities, so processing numbers any further will create an overflow error.\n",
    "\n"
   ]
  },
  {
   "cell_type": "code",
   "execution_count": 1,
   "id": "a7d4d11f",
   "metadata": {},
   "outputs": [
    {
     "name": "stdout",
     "output_type": "stream",
     "text": [
      "8\n"
     ]
    }
   ],
   "source": [
    "x = 7\n",
    "y = x + 1  # 8\n",
    "# on a 4 bit machine you would get an error:\n",
    "# Overflow error or Number is too large\n",
    "\n",
    "# Could truncate (change 8 to 7)\n",
    "# OR wrap the number around, (instead of 8, it would get stored as 1)\n",
    "\n",
    "print(y)"
   ]
  },
  {
   "cell_type": "markdown",
   "id": "6b1a53d6",
   "metadata": {},
   "source": [
    "#### Modern computer systems use 64bit architectures.\n",
    "\n",
    "This means that modern computers can store numbers safely up to:\n",
    "## 9,007,199,254,740,991    OR 2^53 - 1"
   ]
  },
  {
   "cell_type": "markdown",
   "id": "07ea93f8",
   "metadata": {},
   "source": [
    "### Floating-point representation"
   ]
  },
  {
   "cell_type": "markdown",
   "id": "5b9ec482",
   "metadata": {},
   "source": [
    "Floating-point or Decimal numbers are trickier to represent in computer memory.\n",
    "\n",
    "Numbers like:\n",
    "<pre>2/5     1.234       9.99999999      3.1415...</pre>"
   ]
  },
  {
   "cell_type": "markdown",
   "id": "56563ef1",
   "metadata": {},
   "source": [
    "Computer use <b>floating-point representation</b> :\n",
    "\n",
    "<pre>a number is multiplied by a base that's raised to an exponent:\n",
    "300 = 3 x 10^2\n",
    "\n",
    "Since we use BINARY:\n",
    "128 = 1 x 2^7\n",
    "256 = 1 x 2^8</pre>"
   ]
  },
  {
   "cell_type": "markdown",
   "id": "7adb584f",
   "metadata": {},
   "source": [
    "<pre>Numbers between powers of 2:\n",
    "\n",
    "160 = 1.25 x 2^7\n",
    "192 = 1.50 x 2^7\n",
    "224 = 1.75 x 2^7</pre>"
   ]
  },
  {
   "cell_type": "markdown",
   "id": "50fed3d7",
   "metadata": {},
   "source": [
    "### What about non-Integers\n",
    "\n",
    "<pre>\n",
    "0.50 = 1 x 2^-1\n",
    "0.25 = 1 x 2^-2\n",
    "</pre>\n",
    "\n",
    "### What about floating-points\n",
    "\n",
    "<pre>\n",
    "0.750 = 1.5 x 2^-1\n",
    "0.375 = 1.5 x 2^-2\n",
    "</pre>\n",
    "\n",
    "<pre>0.375 = 0011111111011000000000000000000000000000000000000000000000000000\n",
    "1 bit --> the sign\n",
    "11 bits --> exponent\n",
    "52 bits --> number in front of the decimal\n",
    "</pre>"
   ]
  },
  {
   "cell_type": "markdown",
   "id": "504c4268",
   "metadata": {},
   "source": [
    "### Roundoff errors"
   ]
  },
  {
   "cell_type": "markdown",
   "id": "a9b00afc",
   "metadata": {},
   "source": [
    "All floating-point numbers cannot be fully respresented using binary\n",
    "\n",
    "1/3 = 0.333333333...\n",
    "\n",
    "1/3 = 1.3 x 2^-2 --> .010101010101..."
   ]
  },
  {
   "cell_type": "code",
   "execution_count": 2,
   "id": "5e60292e",
   "metadata": {},
   "outputs": [
    {
     "name": "stdout",
     "output_type": "stream",
     "text": [
      "0.30000000000000004\n"
     ]
    }
   ],
   "source": [
    "result = 0.1 + 0.1 + 0.1\n",
    "print(result)"
   ]
  },
  {
   "cell_type": "markdown",
   "id": "880ebc30",
   "metadata": {},
   "source": [
    "The more bits we can use, the more precise our numbers and calculations will be. Modern 64-bit systems offer a high enough precision for low-stakes calculations."
   ]
  },
  {
   "cell_type": "markdown",
   "id": "bb07948a",
   "metadata": {},
   "source": []
  }
 ],
 "metadata": {
  "kernelspec": {
   "display_name": "Python 3",
   "language": "python",
   "name": "python3"
  },
  "language_info": {
   "codemirror_mode": {
    "name": "ipython",
    "version": 3
   },
   "file_extension": ".py",
   "mimetype": "text/x-python",
   "name": "python",
   "nbconvert_exporter": "python",
   "pygments_lexer": "ipython3",
   "version": "3.12.1"
  }
 },
 "nbformat": 4,
 "nbformat_minor": 5
}
